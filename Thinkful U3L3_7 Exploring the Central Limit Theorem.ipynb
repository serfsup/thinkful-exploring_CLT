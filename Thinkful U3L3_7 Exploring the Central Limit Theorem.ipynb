{
 "cells": [
  {
   "cell_type": "code",
   "execution_count": 1,
   "metadata": {},
   "outputs": [
    {
     "name": "stderr",
     "output_type": "stream",
     "text": [
      "/Library/Frameworks/Python.framework/Versions/3.6/lib/python3.6/importlib/_bootstrap.py:205: RuntimeWarning: numpy.dtype size changed, may indicate binary incompatibility. Expected 96, got 88\n",
      "  return f(*args, **kwds)\n",
      "/Library/Frameworks/Python.framework/Versions/3.6/lib/python3.6/importlib/_bootstrap.py:205: RuntimeWarning: numpy.dtype size changed, may indicate binary incompatibility. Expected 96, got 88\n",
      "  return f(*args, **kwds)\n"
     ]
    }
   ],
   "source": [
    "import numpy as np\n",
    "import pandas as pd\n",
    "import scipy\n",
    "import matplotlib.pyplot as plt\n",
    "%matplotlib inline"
   ]
  },
  {
   "cell_type": "code",
   "execution_count": 2,
   "metadata": {},
   "outputs": [
    {
     "name": "stdout",
     "output_type": "stream",
     "text": [
      "2.02\n",
      "5.0\n",
      "1.1311940593903418\n",
      "1.3564659966250536\n"
     ]
    }
   ],
   "source": [
    "pop1 = np.random.binomial(10, 0.2, 10000)\n",
    "pop2 = np.random.binomial(10, 0.5, 10000)\n",
    "\n",
    "sample1 = np.random.choice(pop1, 100, replace=True)\n",
    "sample2 = np.random.choice(pop2, 100, replace=True)\n",
    "\n",
    "print(sample1.mean())\n",
    "print(sample2.mean())\n",
    "print(sample1.std())\n",
    "print(sample2.std())"
   ]
  },
  {
   "cell_type": "markdown",
   "metadata": {},
   "source": [
    "Next I will change the sample size from 100 to 1000 and create histograms.  I would imagine that the mean and standard deviations will change slightly, becoming more accurate than the previous values."
   ]
  },
  {
   "cell_type": "code",
   "execution_count": 4,
   "metadata": {},
   "outputs": [
    {
     "name": "stdout",
     "output_type": "stream",
     "text": [
      "1.964\n",
      "5.054\n",
      "1.240445081412313\n",
      "1.5195670436015647\n"
     ]
    },
    {
     "data": {
      "image/png": "[encoded data removed]",
      "text/plain": [
       "<Figure size 432x288 with 1 Axes>"
      ]
     },
     "metadata": {},
     "output_type": "display_data"
    }
   ],
   "source": [
    "# Change sample size from 100 to 1000, then create histograms.\n",
    "sample1a = np.random.choice(pop1, 1000, replace=True)\n",
    "sample2a = np.random.choice(pop2, 1000, replace=True)\n",
    "\n",
    "print(sample1a.mean())\n",
    "print(sample2a.mean())\n",
    "print(sample1a.std())\n",
    "print(sample2a.std())\n",
    "\n",
    "plt.hist(sample1a, alpha=0.5, label='sample 1a')\n",
    "plt.hist(sample2a, alpha=0.5, label='sample 2a')\n",
    "plt.legend(loc='upper right')\n",
    "plt.show()"
   ]
  },
  {
   "cell_type": "markdown",
   "metadata": {},
   "source": [
    "Next the sample size will change from 1000 to 20.  I think this will show a general (rough) outline of the shape of the values, but the accuracy of the estimates will decline."
   ]
  },
  {
   "cell_type": "code",
   "execution_count": 6,
   "metadata": {},
   "outputs": [
    {
     "name": "stdout",
     "output_type": "stream",
     "text": [
      "2.1\n",
      "5.05\n",
      "1.4106735979665885\n",
      "1.2439855304624727\n"
     ]
    },
    {
     "data": {
      "image/png": "[encoded data removed]",
      "text/plain": [
       "<Figure size 432x288 with 1 Axes>"
      ]
     },
     "metadata": {},
     "output_type": "display_data"
    }
   ],
   "source": [
    "# Change sample size from 1000 to 20, then create histograms.\n",
    "sample1b = np.random.choice(pop1, 20, replace=True)\n",
    "sample2b = np.random.choice(pop2, 20, replace=True)\n",
    "\n",
    "print(sample1b.mean())\n",
    "print(sample2b.mean())\n",
    "print(sample1b.std())\n",
    "print(sample2b.std())\n",
    "\n",
    "plt.hist(sample1b, alpha=0.5, label='sample 1b')\n",
    "plt.hist(sample2b, alpha=0.5, label='sample 2b')\n",
    "plt.legend(loc='upper right')\n",
    "plt.show()"
   ]
  },
  {
   "cell_type": "markdown",
   "metadata": {},
   "source": [
    "Interestingly, sample2's mean stayed almost exactly the same (5.0, 5.054, 5.05), while sample1 changed from 2.02, 1.964, and 1.75.  The standard deviations for both samples fluctuated much more than these data."
   ]
  },
  {
   "cell_type": "code",
   "execution_count": 8,
   "metadata": {},
   "outputs": [
    {
     "name": "stdout",
     "output_type": "stream",
     "text": [
      "2.995\n",
      "4.94\n",
      "1.4747796445571115\n",
      "1.618147088493503\n"
     ]
    },
    {
     "data": {
      "image/png": "[encoded data removed]",
      "text/plain": [
       "<Figure size 432x288 with 1 Axes>"
      ]
     },
     "metadata": {},
     "output_type": "display_data"
    },
    {
     "name": "stdout",
     "output_type": "stream",
     "text": [
      "1.9450000000000003\n",
      "28.093050664854285\n",
      "Ttest_indResult(statistic=28.079000626133613, pvalue=2.520818655407068e-146)\n"
     ]
    }
   ],
   "source": [
    "# Change the value of pop1's probability value \"p\" to 0.3.\n",
    "pop1 = np.random.binomial(10, 0.3, 10000)\n",
    "\n",
    "# Take new samples.\n",
    "sample1c = np.random.choice(pop1, 1000, replace=True)\n",
    "sample2c = np.random.choice(pop2, 1000, replace=True)\n",
    "\n",
    "# Compute the t-statistic and p value.\n",
    "print(sample1c.mean())\n",
    "print(sample2c.mean())\n",
    "print(sample1c.std())\n",
    "print(sample2c.std())\n",
    "\n",
    "plt.hist(sample1c, alpha=0.5, label='sample 1c')\n",
    "plt.hist(sample2c, alpha=0.5, label='sample 2c')\n",
    "plt.legend(loc='upper right')\n",
    "plt.show()\n",
    "\n",
    "# Compute the difference between the two sample means.\n",
    "diff=sample2c.mean() -sample1c.mean()\n",
    "print(diff)\n",
    "\n",
    "size = np.array([len(sample1c), len(sample2c)])\n",
    "sd = np.array([sample1c.std(), sample2c.std()])\n",
    "\n",
    "# The squared standard deviations are divided by the sample size and summed,\n",
    "# then we take the square root of the sum.\n",
    "diff_se = (sum(sd ** 2 / size)) ** 0.5\n",
    "\n",
    "# The difference between the means divided by the standard error: T=value.\n",
    "print(diff / diff_se)\n",
    "\n",
    "\n",
    "from scipy.stats import ttest_ind\n",
    "print(ttest_ind(sample2c, sample1c, equal_var=False))"
   ]
  },
  {
   "cell_type": "code",
   "execution_count": 11,
   "metadata": {},
   "outputs": [
    {
     "name": "stdout",
     "output_type": "stream",
     "text": [
      "3.961\n",
      "5.032\n",
      "1.5554674538543067\n",
      "1.5833432982142568\n"
     ]
    },
    {
     "data": {
      "image/png": "[encoded data removed]",
      "text/plain": [
       "<Figure size 432x288 with 1 Axes>"
      ]
     },
     "metadata": {},
     "output_type": "display_data"
    },
    {
     "name": "stdout",
     "output_type": "stream",
     "text": [
      "1.0710000000000002\n",
      "15.25886429948826\n",
      "Ttest_indResult(statistic=15.2512329590262, pvalue=9.184319963683919e-50)\n"
     ]
    }
   ],
   "source": [
    "# Change the value of pop1's probability value \"p\" to 0.4.\n",
    "pop1 = np.random.binomial(10, 0.4, 10000)\n",
    "\n",
    "# Take new samples.\n",
    "sample1d = np.random.choice(pop1, 1000, replace=True)\n",
    "sample2d = np.random.choice(pop2, 1000, replace=True)\n",
    "\n",
    "# Compute the t-statistic and p value.\n",
    "print(sample1d.mean())\n",
    "print(sample2d.mean())\n",
    "print(sample1d.std())\n",
    "print(sample2d.std())\n",
    "\n",
    "plt.hist(sample1d, alpha=0.5, label='sample 1d')\n",
    "plt.hist(sample2d, alpha=0.5, label='sample 2d')\n",
    "plt.legend(loc='upper right')\n",
    "plt.show()\n",
    "\n",
    "# Compute the difference between the two sample means.\n",
    "diff=sample2d.mean() -sample1d.mean()\n",
    "print(diff)\n",
    "\n",
    "size = np.array([len(sample1d), len(sample2d)])\n",
    "sd = np.array([sample1d.std(), sample2d.std()])\n",
    "\n",
    "# The squared standard deviations are divided by the sample size and summed,\n",
    "# then we take the square root of the sum.\n",
    "diff_se = (sum(sd ** 2 / size)) ** 0.5\n",
    "\n",
    "# The difference between the means divided by the standard error: T=value.\n",
    "print(diff / diff_se)\n",
    "\n",
    "from scipy.stats import ttest_ind\n",
    "print(ttest_ind(sample2d, sample1d, equal_var=False))"
   ]
  }
 ],
 "metadata": {
  "kernelspec": {
   "display_name": "Python 3",
   "language": "python",
   "name": "python3"
  },
  "language_info": {
   "codemirror_mode": {
    "name": "ipython",
    "version": 3
   },
   "file_extension": ".py",
   "mimetype": "text/x-python",
   "name": "python",
   "nbconvert_exporter": "python",
   "pygments_lexer": "ipython3",
   "version": "3.6.1"
  }
 },
 "nbformat": 4,
 "nbformat_minor": 2
}
